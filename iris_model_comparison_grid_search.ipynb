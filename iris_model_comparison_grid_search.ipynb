{
  "nbformat": 4,
  "nbformat_minor": 0,
  "metadata": {
    "colab": {
      "provenance": [],
      "authorship_tag": "ABX9TyOfiCYJRN7DcFlqeTqG8XJ6",
      "include_colab_link": true
    },
    "kernelspec": {
      "name": "python3",
      "display_name": "Python 3"
    },
    "language_info": {
      "name": "python"
    }
  },
  "cells": [
    {
      "cell_type": "markdown",
      "metadata": {
        "id": "view-in-github",
        "colab_type": "text"
      },
      "source": [
        "<a href=\"https://colab.research.google.com/github/ashkan-motamedifar/iris-ml-model-comparison/blob/main/iris_model_comparison_grid_search.ipynb\" target=\"_parent\"><img src=\"https://colab.research.google.com/assets/colab-badge.svg\" alt=\"Open In Colab\"/></a>"
      ]
    },
    {
      "cell_type": "code",
      "execution_count": null,
      "metadata": {
        "id": "mKZGVSZycrrd"
      },
      "outputs": [],
      "source": [
        "import pandas as pd\n",
        "from sklearn.datasets import load_iris\n",
        "from sklearn.model_selection import train_test_split, GridSearchCV, StratifiedKFold\n",
        "from sklearn.pipeline import Pipeline\n",
        "from sklearn.preprocessing import StandardScaler\n",
        "from sklearn.linear_model import LogisticRegression\n",
        "from sklearn.svm import SVC\n",
        "from sklearn.neighbors import KNeighborsClassifier\n",
        "from sklearn.tree import DecisionTreeClassifier\n",
        "from sklearn.ensemble import RandomForestClassifier\n",
        "from sklearn.metrics import accuracy_score, f1_score, precision_score, recall_score"
      ]
    },
    {
      "cell_type": "code",
      "source": [
        "# 1) Data\n",
        "iris = load_iris()\n",
        "X = iris.data\n",
        "y = iris.target\n",
        "\n",
        "X_tr, X_te, y_tr, y_te = train_test_split(X, y, test_size=0.30, stratify=y, random_state=42)\n",
        "X_tr.shape, X_te.shape, y_te.shape, y_tr.shape"
      ],
      "metadata": {
        "id": "BUw1BzDOdptA",
        "colab": {
          "base_uri": "https://localhost:8080/"
        },
        "outputId": "b7f78ecd-d40e-4f0a-b1b2-c47b29e2f3c4"
      },
      "execution_count": null,
      "outputs": [
        {
          "output_type": "execute_result",
          "data": {
            "text/plain": [
              "((105, 4), (45, 4), (45,), (105,))"
            ]
          },
          "metadata": {},
          "execution_count": 5
        }
      ]
    },
    {
      "cell_type": "code",
      "source": [
        "# 2) CV splitter (balanced + reproducible)\n",
        "cv5 = StratifiedKFold(n_splits=5, shuffle=True, random_state=42)"
      ],
      "metadata": {
        "id": "ybAS7zIAdwxh"
      },
      "execution_count": null,
      "outputs": []
    },
    {
      "cell_type": "code",
      "source": [
        "# 3) Pipelines (scale where it matters; trees don’t care but kept for uniformity)\n",
        "pipes = {\n",
        "    \"LogReg\": Pipeline([(\"scaler\", StandardScaler()), (\"clf\", LogisticRegression(max_iter=500, random_state=42))]),\n",
        "    \"SVM\":    Pipeline([(\"scaler\", StandardScaler()), (\"clf\", SVC(random_state=42))]),\n",
        "    \"KNN\":    Pipeline([(\"scaler\", StandardScaler()), (\"clf\", KNeighborsClassifier())]),\n",
        "    \"DT\":     Pipeline([(\"scaler\", StandardScaler()), (\"clf\", DecisionTreeClassifier(random_state=42))]),\n",
        "    \"RF\":     Pipeline([(\"scaler\", StandardScaler()), (\"clf\", RandomForestClassifier(random_state=42))]),\n",
        "}"
      ],
      "metadata": {
        "id": "udgnsNzPd2VU"
      },
      "execution_count": null,
      "outputs": []
    },
    {
      "cell_type": "code",
      "source": [
        "# 4) Param grids (note: clf__ prefix for inside-pipeline params)\n",
        "grids = {\n",
        "    \"LogReg\": {\"clf__C\":[0.1,1,10], \"clf__penalty\":[\"l2\"], \"clf__solver\":[\"lbfgs\"]},\n",
        "    \"SVM\":    {\"clf__kernel\":[\"linear\",\"rbf\"], \"clf__C\":[0.1,1,10], \"clf__gamma\":[\"scale\",\"auto\"]},\n",
        "    \"KNN\":    {\"clf__n_neighbors\":[3,5,7,9], \"clf__weights\":[\"uniform\",\"distance\"], \"clf__p\":[1,2]},\n",
        "    \"DT\":     {\"clf__criterion\":[\"gini\",\"entropy\"], \"clf__max_depth\":[None,3,5,7], \"clf__min_samples_split\":[2,5,10]},\n",
        "    \"RF\":     {\"clf__n_estimators\":[100,200,400], \"clf__max_depth\":[None,5,10], \"clf__min_samples_split\":[2,5,10]},\n",
        "}"
      ],
      "metadata": {
        "id": "B0nhKsBad7lz"
      },
      "execution_count": null,
      "outputs": []
    },
    {
      "cell_type": "code",
      "source": [
        "def tune_and_test(name, est, grid):\n",
        "    gs = GridSearchCV(estimator=est, param_grid=grid, cv=5, scoring=\"f1_macro\", n_jobs=-1, refit=True)\n",
        "    gs.fit(X_tr, y_tr)                              # CV on TRAIN; refit best on full TRAIN\n",
        "    y_hat = gs.best_estimator_.predict(X_te)        # one final TEST evaluation\n",
        "\n",
        "    return {\n",
        "        \"Model\": name,\n",
        "        \"CV_F1\": round(gs.best_score_, 4),                                  # mean CV on TRAIN folds\n",
        "        \"Test_ACC\": round(accuracy_score(y_te, y_hat), 4),\n",
        "        \"Test_Precision\": round(precision_score(y_te, y_hat, average=\"macro\", zero_division=0), 4),\n",
        "        \"Test_Recall\": round(recall_score(y_te, y_hat, average=\"macro\", zero_division=0), 4),\n",
        "        \"Test_F1\": round(f1_score(y_te, y_hat, average=\"macro\"), 4),\n",
        "        \"Best_Params\": gs.best_params_\n",
        "    }"
      ],
      "metadata": {
        "id": "6ElZ-6S5h59X"
      },
      "execution_count": null,
      "outputs": []
    },
    {
      "cell_type": "code",
      "source": [
        "rows = [tune_and_test(n, m, grids[n]) for n, m in pipes.items()]\n",
        "res = (pd.DataFrame(rows)\n",
        "         .sort_values(\"Test_F1\", ascending=False)\n",
        "         .reset_index(drop=True))\n",
        "print(res.to_string(index=False))"
      ],
      "metadata": {
        "colab": {
          "base_uri": "https://localhost:8080/"
        },
        "id": "0c18-tMfiFZF",
        "outputId": "09efb63d-01b0-4d47-b347-d5e2893beecb"
      },
      "execution_count": null,
      "outputs": [
        {
          "output_type": "stream",
          "name": "stdout",
          "text": [
            " Model  CV_F1  Test_ACC  Test_Precision  Test_Recall  Test_F1                                                                     Best_Params\n",
            "    DT 0.9522    0.9556          0.9608       0.9556   0.9554 {'clf__criterion': 'gini', 'clf__max_depth': None, 'clf__min_samples_split': 5}\n",
            "LogReg 0.9809    0.9111          0.9155       0.9111   0.9107                     {'clf__C': 1, 'clf__penalty': 'l2', 'clf__solver': 'lbfgs'}\n",
            "   SVM 0.9714    0.9111          0.9155       0.9111   0.9107                 {'clf__C': 0.1, 'clf__gamma': 'scale', 'clf__kernel': 'linear'}\n",
            "   KNN 0.9713    0.9111          0.9298       0.9111   0.9095                 {'clf__n_neighbors': 5, 'clf__p': 1, 'clf__weights': 'uniform'}\n",
            "    RF 0.9522    0.8889          0.8981       0.8889   0.8878 {'clf__max_depth': None, 'clf__min_samples_split': 2, 'clf__n_estimators': 100}\n"
          ]
        }
      ]
    }
  ]
}